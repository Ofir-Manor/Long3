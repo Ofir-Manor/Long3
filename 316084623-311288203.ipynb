{
  "nbformat": 4,
  "nbformat_minor": 0,
  "metadata": {
    "colab": {
      "provenance": [],
      "authorship_tag": "ABX9TyMaDSI+YTQ4baWXo5rZn3fQ",
      "include_colab_link": true
    },
    "kernelspec": {
      "name": "python3",
      "display_name": "Python 3"
    },
    "language_info": {
      "name": "python"
    }
  },
  "cells": [
    {
      "cell_type": "markdown",
      "metadata": {
        "id": "view-in-github",
        "colab_type": "text"
      },
      "source": [
        "<a href=\"https://colab.research.google.com/github/Ofir-Manor/Long3/blob/main/316084623-311288203.ipynb\" target=\"_parent\"><img src=\"https://colab.research.google.com/assets/colab-badge.svg\" alt=\"Open In Colab\"/></a>"
      ]
    },
    {
      "cell_type": "markdown",
      "source": [
        "<h1 align=\"center\"> HW3 Major</h1>\n",
        "<h1 align=\"center\"> Regression</h1>"
      ],
      "metadata": {
        "id": "dvWmHEbeBvuW"
      }
    },
    {
      "cell_type": "markdown",
      "source": [
        "# Setting the Environment"
      ],
      "metadata": {
        "id": "PcPDtRW0CBbT"
      }
    },
    {
      "cell_type": "code",
      "source": [
        "#@title Setting the Environment:\n",
        "import numpy as np\n",
        "import pandas as pd\n",
        "import matplotlib.pyplot as plt\n",
        "import seaborn as sns\n",
        "from matplotlib import pylab\n",
        "from typing import Union\n",
        "params = {\n",
        "    'xtick.labelsize': 18,\n",
        "    'ytick.labelsize': 18,\n",
        "    'axes.titlesize' : 22,\n",
        "    'axes.labelsize' : 20,\n",
        "    'legend.fontsize': 18,\n",
        "    'legend.title_fontsize': 22,\n",
        "    'figure.titlesize': 24\n",
        " }\n",
        "pylab.rcParams.update(params)"
      ],
      "metadata": {
        "id": "lOTq45QNCCLb"
      },
      "execution_count": null,
      "outputs": []
    },
    {
      "cell_type": "markdown",
      "source": [
        "## Preliminary: Updated Data Loading"
      ],
      "metadata": {
        "id": "WIJ3zdABCFSv"
      }
    },
    {
      "cell_type": "code",
      "source": [
        "#@title Loading the dataset and the code files:\n",
        "# load the csv file:\n",
        "!rm *.csv\n",
        "from google.colab import files\n",
        "print(\"Please load the raw csv data: HW3_data\")\n",
        "uploadedData = files.upload()\n",
        "filename = list(uploadedData)[0]"
      ],
      "metadata": {
        "id": "iwYaaeunCPaK"
      },
      "execution_count": null,
      "outputs": []
    },
    {
      "cell_type": "code",
      "source": [
        "#@title Create DF and split it:\n",
        "\n",
        "dataset = pd.DataFrame(pd.read_csv(filename))\n",
        "from sklearn.model_selection import train_test_split\n",
        "random_state = 3 + 23\n",
        "train_raw, test_raw = train_test_split(dataset, test_size=0.2, random_state=random_state)"
      ],
      "metadata": {
        "id": "ScuJ4dfLCc8R"
      },
      "execution_count": null,
      "outputs": []
    },
    {
      "cell_type": "code",
      "source": [
        "#@title Use `prepare` function:"
      ],
      "metadata": {
        "id": "dbb9grryCgCn"
      },
      "execution_count": null,
      "outputs": []
    }
  ]
}